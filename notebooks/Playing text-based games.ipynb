{
 "cells": [
  {
   "cell_type": "markdown",
   "metadata": {},
   "source": [
    "# Playing text-based games with TextWorld\n",
    "This tutorial shows how to play a text-based adventure game using TextWorld's API."
   ]
  },
  {
   "cell_type": "markdown",
   "metadata": {},
   "source": [
    "## Playing Zork1\n",
    "### Getting the game file\n",
    "First, we need a copy of `zork1.z5`."
   ]
  },
  {
   "cell_type": "code",
   "execution_count": null,
   "metadata": {},
   "outputs": [],
   "source": [
    "!echo \"Downloading zork1.z5 ...\"\n",
    "!wget -q -N https://archive.org/download/Zork1Release88Z-machineFile/zork1.z5\n",
    "!echo \"Done.\""
   ]
  },
  {
   "cell_type": "markdown",
   "metadata": {},
   "source": [
    "### Loading the library"
   ]
  },
  {
   "cell_type": "code",
   "execution_count": null,
   "metadata": {},
   "outputs": [],
   "source": [
    "import textworld"
   ]
  },
  {
   "cell_type": "markdown",
   "metadata": {},
   "source": [
    "Documentation for the TextWorld API can be found at\n",
    "\n",
    "https://textworld-docs.azurewebsites.net/textworld.html"
   ]
  },
  {
   "cell_type": "markdown",
   "metadata": {},
   "source": [
    "### Starting a game"
   ]
  },
  {
   "cell_type": "code",
   "execution_count": null,
   "metadata": {},
   "outputs": [],
   "source": [
    "env = textworld.start('./zork1.z5')"
   ]
  },
  {
   "cell_type": "markdown",
   "metadata": {},
   "source": [
    "Here `env` is a subclass of `textworld.core.Environment`. It provides the API allowing us to interact with the text-based game parser/interpreter that is running `zork1.z5`. Here are the most important methods we can access:\n",
    "\n",
    "```python\n",
    "# Restart the game and get the initial observation/state from the game.\n",
    "game_state = env.reset()\n",
    "\n",
    "# Some games contain stochasticity, the following allows us to make a playthrough reproducible.\n",
    "env.seed(seed=None)\n",
    "\n",
    "# Perform a step in the game, i.e. send a text command and get the new state, a reward for reaching that new state and whether the game is finished (either won or lost).\n",
    "game_state, reward, done = env.step(command)\n",
    "\n",
    "# Display the current observation, i.e. send the interpreter's response to stdout.\n",
    "env.render()\n",
    "```"
   ]
  },
  {
   "cell_type": "markdown",
   "metadata": {},
   "source": [
    "### Getting the initial state"
   ]
  },
  {
   "cell_type": "code",
   "execution_count": null,
   "metadata": {},
   "outputs": [],
   "source": [
    "game_state = env.reset()"
   ]
  },
  {
   "cell_type": "markdown",
   "metadata": {},
   "source": [
    "The variable `game_state` is a subclass of `textworld.core.GameState`. It provides the API allowing us to retrieve diverse information about the current state of the game. Here are the most useful properties."
   ]
  },
  {
   "cell_type": "code",
   "execution_count": null,
   "metadata": {},
   "outputs": [],
   "source": [
    "# Response from the parser after entering a text command or resetting a game.\n",
    "print(game_state.feedback)"
   ]
  },
  {
   "cell_type": "code",
   "execution_count": null,
   "metadata": {},
   "outputs": [],
   "source": [
    "# Text describing the room the player is currently in.\n",
    "# It corresponds the parser's feedback of the \"look\" command.\n",
    "print(game_state.description)"
   ]
  },
  {
   "cell_type": "code",
   "execution_count": null,
   "metadata": {},
   "outputs": [],
   "source": [
    "# Text describing the player's inventory.\n",
    "print(game_state.inventory)"
   ]
  },
  {
   "cell_type": "code",
   "execution_count": null,
   "metadata": {},
   "outputs": [],
   "source": [
    "# Score received up until now.\n",
    "print(game_state.score)"
   ]
  },
  {
   "cell_type": "markdown",
   "metadata": {},
   "source": [
    "### Sending commands"
   ]
  },
  {
   "cell_type": "code",
   "execution_count": null,
   "metadata": {},
   "outputs": [],
   "source": [
    "game_state, score, done = env.step(\"open mailbox\")\n",
    "print(game_state.feedback)  # Result of the command."
   ]
  },
  {
   "cell_type": "code",
   "execution_count": null,
   "metadata": {},
   "outputs": [],
   "source": [
    "print(game_state.description)  # Description of the room."
   ]
  },
  {
   "cell_type": "markdown",
   "metadata": {},
   "source": [
    "Alternatively to `print(game_state.feedback)`, it is more convenient to do:"
   ]
  },
  {
   "cell_type": "code",
   "execution_count": null,
   "metadata": {},
   "outputs": [],
   "source": [
    "env.render()"
   ]
  },
  {
   "cell_type": "markdown",
   "metadata": {},
   "source": [
    "### Making a simple play loop"
   ]
  },
  {
   "cell_type": "code",
   "execution_count": null,
   "metadata": {},
   "outputs": [],
   "source": [
    "try:\n",
    "    done = False\n",
    "    env.reset()\n",
    "    while not done:\n",
    "        env.render()\n",
    "        command = input(\"> \")\n",
    "        game_state, reward, done = env.step(command)\n",
    "    \n",
    "    env.render()  # Final message.\n",
    "except KeyboardInterrupt:\n",
    "    pass  # Quit the game.\n",
    "\n",
    "print(\"Played {} steps, scoring {} points.\".format(game_state.nb_moves, game_state.score))\n"
   ]
  },
  {
   "cell_type": "markdown",
   "metadata": {},
   "source": [
    "## Play a generated game\n",
    "TextWorld also has the capacity to generate games. Play one of our generated games below using the builtin play loop function or the `tw-play` script."
   ]
  },
  {
   "cell_type": "code",
   "execution_count": null,
   "metadata": {},
   "outputs": [],
   "source": [
    "env = textworld.play(\"./games/last.ulx\")"
   ]
  }
 ],
 "metadata": {
  "language_info": {
   "name": "python",
   "pygments_lexer": "ipython3"
  }
 },
 "nbformat": 4,
 "nbformat_minor": 2
}
